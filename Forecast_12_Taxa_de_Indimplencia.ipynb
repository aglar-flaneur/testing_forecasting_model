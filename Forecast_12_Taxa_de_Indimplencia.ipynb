{
 "cells": [
  {
   "attachments": {},
   "cell_type": "markdown",
   "metadata": {},
   "source": [
    "     \n",
    "     O código é um exemplo de como implementar um modelo de previsão de séries temporais utilizando redes neurais recorrentes LSTM. A ideia do modelo é utilizarmos os dados históricos da taxa de inadimplência para prever a taxa de inadimplência dos próximos 12 meses. Para isso, realizamos diversas etapas de pré-processamento, tais como normalização dos valores, divisão dos dados em treino e teste, criação de conjuntos de dados para treinamento e teste, e remodelagem dos dados em três tipos de modelos diferentes um LSTM, um de Alisamento Exponencial e um Ensemble - que calcula a média de resultado dos dois anteriores.\n",
    "\n",
    "     Após a construção do modelo, as previsões são feitas e, em seguida, calculamos o erro médio quadrático (MSE) e o erro médio absoluto (MAE) para avaliar o desempenho do modelos. Quando essas métricas são baixas, significa que o modelo está produzindo previsões precisas e próximas dos valores reais. Isso indica que o modelo está aprendendo padrões importantes na série temporal e é capaz de generalizar bem para novos dados. Portanto, um MSE e MAE baixos são indícios de que um modelo de previsão de séries temporais é robusto e confiável. **Os resultados dos modelos sugerem que a melhor opção de forecast final é o modelo LSTM** capaz de capturar os padrões da série temporal e, portanto, é um modelo adequado para o forecast da taxa de inadimplência. \n",
    "     \n",
    "     Quanto aos principais drivers desses valores, pode-se considerar fatores macroeconômicos, tais como a taxa de juros, a inflação e o desemprego, bem como fatores específicos do setor, como a concessão de crédito, a situação financeira das empresas e o perfil dos consumidores."
   ]
  },
  {
   "attachments": {},
   "cell_type": "markdown",
   "metadata": {},
   "source": [
    "##### Importar Libs"
   ]
  },
  {
   "cell_type": "code",
   "execution_count": 158,
   "metadata": {},
   "outputs": [],
   "source": [
    "# Importar Libs\n",
    "\n",
    "import requests\n",
    "import json\n",
    "import pandas as pd\n",
    "import numpy as np\n",
    "from sklearn.preprocessing import MinMaxScaler\n",
    "from statsmodels.tsa.holtwinters import ExponentialSmoothing\n",
    "import tensorflow as tf\n",
    "from tensorflow.keras.models import Sequential\n",
    "from tensorflow.keras.layers import Dense, LSTM"
   ]
  },
  {
   "attachments": {},
   "cell_type": "markdown",
   "metadata": {},
   "source": [
    "##### Load Data"
   ]
  },
  {
   "cell_type": "code",
   "execution_count": 159,
   "metadata": {},
   "outputs": [],
   "source": [
    "# Carregar dados\n",
    "url = \"https://api.bcb.gov.br/dados/serie/bcdata.sgs.21082/dados?formato=json\"\n",
    "response = requests.get(url)\n",
    "data = json.loads(response.text)"
   ]
  },
  {
   "cell_type": "code",
   "execution_count": 160,
   "metadata": {},
   "outputs": [],
   "source": [
    "# Preparar dados\n",
    "df = pd.DataFrame(data)\n",
    "df['data'] = pd.to_datetime(df['data'], dayfirst=True)\n",
    "df['valor'] = df['valor'].astype(float)\n",
    "df.set_index('data', inplace=True)"
   ]
  },
  {
   "cell_type": "code",
   "execution_count": 161,
   "metadata": {},
   "outputs": [],
   "source": [
    "# Normalizar dados\n",
    "scaler = MinMaxScaler(feature_range=(0, 1))\n",
    "scaled_data = scaler.fit_transform(df.values)\n",
    "\n",
    "# Dividir dados em treino e teste\n",
    "train_size = int(len(scaled_data) * 0.9)\n",
    "train, test = scaled_data[:train_size], scaled_data[train_size:]"
   ]
  },
  {
   "attachments": {},
   "cell_type": "markdown",
   "metadata": {},
   "source": [
    "##### Split Data"
   ]
  },
  {
   "cell_type": "code",
   "execution_count": 162,
   "metadata": {},
   "outputs": [],
   "source": [
    "# Função para criar conjuntos de dados para treinamento e teste\n",
    "def create_dataset(dataset, look_back=1):\n",
    "    X, Y = [], []\n",
    "    for i in range(len(dataset) - look_back):\n",
    "        X.append(dataset[i:i + look_back, 0])\n",
    "        Y.append(dataset[i + look_back, 0])\n",
    "    return np.array(X), np.array(Y)\n",
    "\n",
    "# Criar conjuntos de dados para treinamento e teste\n",
    "look_back = 1\n",
    "X_train, Y_train = create_dataset(train, look_back)\n",
    "X_test, Y_test = create_dataset(test, look_back)\n"
   ]
  },
  {
   "cell_type": "code",
   "execution_count": 163,
   "metadata": {},
   "outputs": [],
   "source": [
    "# Remodelar a entrada para ser [amostras, etapas de tempo, características]\n",
    "X_train = np.reshape(X_train, (X_train.shape[0], 1, X_train.shape[1]))\n",
    "X_test = np.reshape(X_test, (X_test.shape[0], 1, X_test.shape[1]))"
   ]
  },
  {
   "attachments": {},
   "cell_type": "markdown",
   "metadata": {},
   "source": [
    "##### Train Model"
   ]
  },
  {
   "attachments": {},
   "cell_type": "markdown",
   "metadata": {},
   "source": [
    "###### Neural LSTM"
   ]
  },
  {
   "cell_type": "code",
   "execution_count": 164,
   "metadata": {},
   "outputs": [
    {
     "name": "stdout",
     "output_type": "stream",
     "text": [
      "Epoch 1/100\n",
      "128/128 - 4s - loss: 0.1813 - 4s/epoch - 30ms/step\n",
      "Epoch 2/100\n",
      "128/128 - 0s - loss: 0.0475 - 282ms/epoch - 2ms/step\n",
      "Epoch 3/100\n",
      "128/128 - 0s - loss: 0.0228 - 275ms/epoch - 2ms/step\n",
      "Epoch 4/100\n",
      "128/128 - 0s - loss: 0.0191 - 328ms/epoch - 3ms/step\n",
      "Epoch 5/100\n",
      "128/128 - 0s - loss: 0.0165 - 466ms/epoch - 4ms/step\n",
      "Epoch 6/100\n",
      "128/128 - 0s - loss: 0.0139 - 367ms/epoch - 3ms/step\n",
      "Epoch 7/100\n",
      "128/128 - 0s - loss: 0.0115 - 342ms/epoch - 3ms/step\n",
      "Epoch 8/100\n",
      "128/128 - 0s - loss: 0.0095 - 475ms/epoch - 4ms/step\n",
      "Epoch 9/100\n",
      "128/128 - 0s - loss: 0.0076 - 318ms/epoch - 2ms/step\n",
      "Epoch 10/100\n",
      "128/128 - 0s - loss: 0.0063 - 264ms/epoch - 2ms/step\n",
      "Epoch 11/100\n",
      "128/128 - 0s - loss: 0.0052 - 326ms/epoch - 3ms/step\n",
      "Epoch 12/100\n",
      "128/128 - 0s - loss: 0.0043 - 382ms/epoch - 3ms/step\n",
      "Epoch 13/100\n",
      "128/128 - 0s - loss: 0.0037 - 329ms/epoch - 3ms/step\n",
      "Epoch 14/100\n",
      "128/128 - 0s - loss: 0.0033 - 334ms/epoch - 3ms/step\n",
      "Epoch 15/100\n",
      "128/128 - 0s - loss: 0.0031 - 384ms/epoch - 3ms/step\n",
      "Epoch 16/100\n",
      "128/128 - 0s - loss: 0.0029 - 255ms/epoch - 2ms/step\n",
      "Epoch 17/100\n",
      "128/128 - 0s - loss: 0.0029 - 277ms/epoch - 2ms/step\n",
      "Epoch 18/100\n",
      "128/128 - 0s - loss: 0.0028 - 256ms/epoch - 2ms/step\n",
      "Epoch 19/100\n",
      "128/128 - 0s - loss: 0.0028 - 343ms/epoch - 3ms/step\n",
      "Epoch 20/100\n",
      "128/128 - 0s - loss: 0.0028 - 247ms/epoch - 2ms/step\n",
      "Epoch 21/100\n",
      "128/128 - 0s - loss: 0.0028 - 278ms/epoch - 2ms/step\n",
      "Epoch 22/100\n",
      "128/128 - 0s - loss: 0.0028 - 343ms/epoch - 3ms/step\n",
      "Epoch 23/100\n",
      "128/128 - 0s - loss: 0.0028 - 294ms/epoch - 2ms/step\n",
      "Epoch 24/100\n",
      "128/128 - 0s - loss: 0.0028 - 328ms/epoch - 3ms/step\n",
      "Epoch 25/100\n",
      "128/128 - 0s - loss: 0.0027 - 309ms/epoch - 2ms/step\n",
      "Epoch 26/100\n",
      "128/128 - 0s - loss: 0.0028 - 373ms/epoch - 3ms/step\n",
      "Epoch 27/100\n",
      "128/128 - 0s - loss: 0.0027 - 316ms/epoch - 2ms/step\n",
      "Epoch 28/100\n",
      "128/128 - 0s - loss: 0.0027 - 391ms/epoch - 3ms/step\n",
      "Epoch 29/100\n",
      "128/128 - 0s - loss: 0.0030 - 366ms/epoch - 3ms/step\n",
      "Epoch 30/100\n",
      "128/128 - 0s - loss: 0.0029 - 352ms/epoch - 3ms/step\n",
      "Epoch 31/100\n",
      "128/128 - 0s - loss: 0.0027 - 316ms/epoch - 2ms/step\n",
      "Epoch 32/100\n",
      "128/128 - 0s - loss: 0.0028 - 313ms/epoch - 2ms/step\n",
      "Epoch 33/100\n",
      "128/128 - 0s - loss: 0.0028 - 456ms/epoch - 4ms/step\n",
      "Epoch 34/100\n",
      "128/128 - 0s - loss: 0.0027 - 339ms/epoch - 3ms/step\n",
      "Epoch 35/100\n",
      "128/128 - 0s - loss: 0.0027 - 452ms/epoch - 4ms/step\n",
      "Epoch 36/100\n",
      "128/128 - 0s - loss: 0.0028 - 479ms/epoch - 4ms/step\n",
      "Epoch 37/100\n",
      "128/128 - 0s - loss: 0.0027 - 334ms/epoch - 3ms/step\n",
      "Epoch 38/100\n",
      "128/128 - 0s - loss: 0.0028 - 414ms/epoch - 3ms/step\n",
      "Epoch 39/100\n",
      "128/128 - 0s - loss: 0.0027 - 362ms/epoch - 3ms/step\n",
      "Epoch 40/100\n",
      "128/128 - 0s - loss: 0.0027 - 378ms/epoch - 3ms/step\n",
      "Epoch 41/100\n",
      "128/128 - 1s - loss: 0.0027 - 515ms/epoch - 4ms/step\n",
      "Epoch 42/100\n",
      "128/128 - 0s - loss: 0.0029 - 421ms/epoch - 3ms/step\n",
      "Epoch 43/100\n",
      "128/128 - 0s - loss: 0.0027 - 406ms/epoch - 3ms/step\n",
      "Epoch 44/100\n",
      "128/128 - 0s - loss: 0.0027 - 299ms/epoch - 2ms/step\n",
      "Epoch 45/100\n",
      "128/128 - 0s - loss: 0.0028 - 365ms/epoch - 3ms/step\n",
      "Epoch 46/100\n",
      "128/128 - 0s - loss: 0.0029 - 415ms/epoch - 3ms/step\n",
      "Epoch 47/100\n",
      "128/128 - 0s - loss: 0.0024 - 367ms/epoch - 3ms/step\n",
      "Epoch 48/100\n",
      "128/128 - 0s - loss: 0.0028 - 308ms/epoch - 2ms/step\n",
      "Epoch 49/100\n",
      "128/128 - 0s - loss: 0.0027 - 333ms/epoch - 3ms/step\n",
      "Epoch 50/100\n",
      "128/128 - 0s - loss: 0.0027 - 374ms/epoch - 3ms/step\n",
      "Epoch 51/100\n",
      "128/128 - 0s - loss: 0.0027 - 334ms/epoch - 3ms/step\n",
      "Epoch 52/100\n",
      "128/128 - 0s - loss: 0.0027 - 236ms/epoch - 2ms/step\n",
      "Epoch 53/100\n",
      "128/128 - 0s - loss: 0.0028 - 353ms/epoch - 3ms/step\n",
      "Epoch 54/100\n",
      "128/128 - 0s - loss: 0.0027 - 265ms/epoch - 2ms/step\n",
      "Epoch 55/100\n",
      "128/128 - 0s - loss: 0.0027 - 336ms/epoch - 3ms/step\n",
      "Epoch 56/100\n",
      "128/128 - 0s - loss: 0.0027 - 300ms/epoch - 2ms/step\n",
      "Epoch 57/100\n",
      "128/128 - 0s - loss: 0.0028 - 357ms/epoch - 3ms/step\n",
      "Epoch 58/100\n",
      "128/128 - 0s - loss: 0.0027 - 293ms/epoch - 2ms/step\n",
      "Epoch 59/100\n",
      "128/128 - 0s - loss: 0.0027 - 329ms/epoch - 3ms/step\n",
      "Epoch 60/100\n",
      "128/128 - 0s - loss: 0.0027 - 385ms/epoch - 3ms/step\n",
      "Epoch 61/100\n",
      "128/128 - 0s - loss: 0.0027 - 290ms/epoch - 2ms/step\n",
      "Epoch 62/100\n",
      "128/128 - 0s - loss: 0.0027 - 289ms/epoch - 2ms/step\n",
      "Epoch 63/100\n",
      "128/128 - 0s - loss: 0.0028 - 284ms/epoch - 2ms/step\n",
      "Epoch 64/100\n",
      "128/128 - 0s - loss: 0.0028 - 379ms/epoch - 3ms/step\n",
      "Epoch 65/100\n",
      "128/128 - 0s - loss: 0.0026 - 272ms/epoch - 2ms/step\n",
      "Epoch 66/100\n",
      "128/128 - 0s - loss: 0.0027 - 387ms/epoch - 3ms/step\n",
      "Epoch 67/100\n",
      "128/128 - 1s - loss: 0.0027 - 540ms/epoch - 4ms/step\n",
      "Epoch 68/100\n",
      "128/128 - 0s - loss: 0.0027 - 370ms/epoch - 3ms/step\n",
      "Epoch 69/100\n",
      "128/128 - 0s - loss: 0.0026 - 343ms/epoch - 3ms/step\n",
      "Epoch 70/100\n",
      "128/128 - 1s - loss: 0.0026 - 506ms/epoch - 4ms/step\n",
      "Epoch 71/100\n",
      "128/128 - 0s - loss: 0.0029 - 326ms/epoch - 3ms/step\n",
      "Epoch 72/100\n",
      "128/128 - 0s - loss: 0.0028 - 288ms/epoch - 2ms/step\n",
      "Epoch 73/100\n",
      "128/128 - 0s - loss: 0.0027 - 301ms/epoch - 2ms/step\n",
      "Epoch 74/100\n",
      "128/128 - 0s - loss: 0.0027 - 415ms/epoch - 3ms/step\n",
      "Epoch 75/100\n",
      "128/128 - 0s - loss: 0.0028 - 302ms/epoch - 2ms/step\n",
      "Epoch 76/100\n",
      "128/128 - 0s - loss: 0.0027 - 351ms/epoch - 3ms/step\n",
      "Epoch 77/100\n",
      "128/128 - 0s - loss: 0.0028 - 324ms/epoch - 3ms/step\n",
      "Epoch 78/100\n",
      "128/128 - 0s - loss: 0.0027 - 312ms/epoch - 2ms/step\n",
      "Epoch 79/100\n",
      "128/128 - 0s - loss: 0.0026 - 248ms/epoch - 2ms/step\n",
      "Epoch 80/100\n",
      "128/128 - 0s - loss: 0.0027 - 332ms/epoch - 3ms/step\n",
      "Epoch 81/100\n",
      "128/128 - 0s - loss: 0.0027 - 366ms/epoch - 3ms/step\n",
      "Epoch 82/100\n",
      "128/128 - 0s - loss: 0.0028 - 272ms/epoch - 2ms/step\n",
      "Epoch 83/100\n",
      "128/128 - 0s - loss: 0.0027 - 272ms/epoch - 2ms/step\n",
      "Epoch 84/100\n",
      "128/128 - 0s - loss: 0.0027 - 291ms/epoch - 2ms/step\n",
      "Epoch 85/100\n",
      "128/128 - 0s - loss: 0.0027 - 411ms/epoch - 3ms/step\n",
      "Epoch 86/100\n",
      "128/128 - 0s - loss: 0.0027 - 277ms/epoch - 2ms/step\n",
      "Epoch 87/100\n",
      "128/128 - 0s - loss: 0.0026 - 314ms/epoch - 2ms/step\n",
      "Epoch 88/100\n",
      "128/128 - 0s - loss: 0.0027 - 374ms/epoch - 3ms/step\n",
      "Epoch 89/100\n",
      "128/128 - 0s - loss: 0.0027 - 293ms/epoch - 2ms/step\n",
      "Epoch 90/100\n",
      "128/128 - 0s - loss: 0.0027 - 263ms/epoch - 2ms/step\n",
      "Epoch 91/100\n",
      "128/128 - 0s - loss: 0.0027 - 266ms/epoch - 2ms/step\n",
      "Epoch 92/100\n",
      "128/128 - 0s - loss: 0.0027 - 346ms/epoch - 3ms/step\n",
      "Epoch 93/100\n",
      "128/128 - 0s - loss: 0.0027 - 266ms/epoch - 2ms/step\n",
      "Epoch 94/100\n",
      "128/128 - 0s - loss: 0.0027 - 275ms/epoch - 2ms/step\n",
      "Epoch 95/100\n",
      "128/128 - 0s - loss: 0.0027 - 288ms/epoch - 2ms/step\n",
      "Epoch 96/100\n",
      "128/128 - 0s - loss: 0.0026 - 442ms/epoch - 3ms/step\n",
      "Epoch 97/100\n",
      "128/128 - 0s - loss: 0.0028 - 291ms/epoch - 2ms/step\n",
      "Epoch 98/100\n",
      "128/128 - 0s - loss: 0.0027 - 277ms/epoch - 2ms/step\n",
      "Epoch 99/100\n",
      "128/128 - 0s - loss: 0.0028 - 346ms/epoch - 3ms/step\n",
      "Epoch 100/100\n",
      "128/128 - 0s - loss: 0.0027 - 344ms/epoch - 3ms/step\n"
     ]
    },
    {
     "data": {
      "text/plain": [
       "<keras.callbacks.History at 0x24f1b3e4a60>"
      ]
     },
     "execution_count": 164,
     "metadata": {},
     "output_type": "execute_result"
    }
   ],
   "source": [
    "# Criar e treinar a rede LSTM\n",
    "model = Sequential()\n",
    "model.add(LSTM(4, input_shape=(1, look_back)))\n",
    "model.add(Dense(1))\n",
    "model.compile(loss='mean_squared_error', optimizer='adam')\n",
    "model.fit(X_train, Y_train, epochs=100, batch_size=1, verbose=2)"
   ]
  },
  {
   "cell_type": "code",
   "execution_count": 165,
   "metadata": {},
   "outputs": [
    {
     "name": "stdout",
     "output_type": "stream",
     "text": [
      "4/4 [==============================] - 1s 3ms/step\n",
      "1/1 [==============================] - 1s 655ms/step\n"
     ]
    }
   ],
   "source": [
    "# Fazer previsões\n",
    "train_predict = model.predict(X_train)\n",
    "test_predict = model.predict(X_test)\n",
    "\n",
    "# Inverter previsões\n",
    "train_predict = scaler.inverse_transform(train_predict)\n",
    "Y_train = scaler.inverse_transform([Y_train])\n",
    "test_predict = scaler.inverse_transform(test_predict)\n",
    "Y_test = scaler.inverse_transform([Y_test])"
   ]
  },
  {
   "cell_type": "code",
   "execution_count": 166,
   "metadata": {},
   "outputs": [
    {
     "name": "stdout",
     "output_type": "stream",
     "text": [
      "Previsões para os próximos 12 meses (LSTM):\n",
      "Mês 1: 2.29\n",
      "Mês 2: 2.44\n",
      "Mês 3: 2.49\n",
      "Mês 4: 2.58\n",
      "Mês 5: 2.64\n",
      "Mês 6: 2.71\n",
      "Mês 7: 2.64\n",
      "Mês 8: 2.76\n",
      "Mês 9: 2.81\n",
      "Mês 10: 2.83\n",
      "Mês 11: 2.96\n",
      "Mês 12: 3.00\n"
     ]
    }
   ],
   "source": [
    "# Exibir previsões para os próximos 12 meses (LSTM)\n",
    "print(\"Previsões para os próximos 12 meses (LSTM):\")\n",
    "for i, prediction in enumerate(test_predict[:12, 0]):\n",
    "    print(f\"Mês {i + 1}: {prediction:.2f}\")\n"
   ]
  },
  {
   "attachments": {},
   "cell_type": "markdown",
   "metadata": {},
   "source": [
    "###### Alisamento Exponencial"
   ]
  },
  {
   "cell_type": "code",
   "execution_count": 167,
   "metadata": {},
   "outputs": [
    {
     "name": "stderr",
     "output_type": "stream",
     "text": [
      "c:\\Users\\MateusDeNadaiLofrano\\anaconda3\\lib\\site-packages\\statsmodels\\tsa\\base\\tsa_model.py:471: ValueWarning: No frequency information was provided, so inferred frequency MS will be used.\n",
      "  self._init_dates(dates, freq)\n"
     ]
    },
    {
     "name": "stdout",
     "output_type": "stream",
     "text": [
      "1/1 [==============================] - 0s 31ms/step\n",
      "1/1 [==============================] - 0s 30ms/step\n",
      "1/1 [==============================] - 0s 29ms/step\n",
      "1/1 [==============================] - 0s 33ms/step\n",
      "1/1 [==============================] - 0s 38ms/step\n",
      "1/1 [==============================] - 0s 46ms/step\n",
      "1/1 [==============================] - 0s 41ms/step\n",
      "1/1 [==============================] - 0s 88ms/step\n",
      "1/1 [==============================] - 0s 47ms/step\n",
      "1/1 [==============================] - 0s 40ms/step\n",
      "1/1 [==============================] - 0s 42ms/step\n",
      "1/1 [==============================] - 0s 54ms/step\n"
     ]
    }
   ],
   "source": [
    "# Alisamento Exponencial\n",
    "hw_model = ExponentialSmoothing(df.iloc[:train_size, 0], seasonal_periods=12, trend='add', seasonal='multiplicative').fit()\n",
    "hw_pred = hw_model.forecast(12)\n",
    "\n",
    "# Prever os próximos 12 meses usando LSTM e Alisamento Exponencial\n",
    "future_steps = 12\n",
    "last_train_value = train[-1]\n",
    "predictions = []\n",
    "\n",
    "for i in range(future_steps):\n",
    "    x_input = np.array([last_train_value]).reshape((1, 1, 1))\n",
    "    lstm_pred = model.predict(x_input)\n",
    "    last_train_value = lstm_pred\n",
    "    lstm_pred = scaler.inverse_transform(lstm_pred)\n",
    "    hw_pred_i = hw_pred[i] if i < len(hw_pred) else hw_pred[-1]\n",
    "    ensemble_pred = (lstm_pred[0][0] + hw_pred_i) / 2\n",
    "    predictions.append(ensemble_pred)"
   ]
  },
  {
   "cell_type": "code",
   "execution_count": 168,
   "metadata": {},
   "outputs": [
    {
     "name": "stdout",
     "output_type": "stream",
     "text": [
      "Previsões para os próximos 12 meses (Alisamento Exponencial):\n",
      "Mês 1: 2.25\n",
      "Mês 2: 2.31\n",
      "Mês 3: 2.35\n",
      "Mês 4: 2.37\n",
      "Mês 5: 2.44\n",
      "Mês 6: 2.49\n",
      "Mês 7: 2.38\n",
      "Mês 8: 2.41\n",
      "Mês 9: 2.43\n",
      "Mês 10: 2.43\n",
      "Mês 11: 2.47\n",
      "Mês 12: 2.45\n"
     ]
    }
   ],
   "source": [
    "# Exibir previsões para os próximos 12 meses (Alisamento Exponencial)\n",
    "print(\"Previsões para os próximos 12 meses (Alisamento Exponencial):\")\n",
    "for i, prediction in enumerate(hw_pred):\n",
    "    print(f\"Mês {i + 1}: {prediction:.2f}\")"
   ]
  },
  {
   "attachments": {},
   "cell_type": "markdown",
   "metadata": {},
   "source": [
    "###### Ensemble"
   ]
  },
  {
   "cell_type": "code",
   "execution_count": 169,
   "metadata": {},
   "outputs": [
    {
     "name": "stdout",
     "output_type": "stream",
     "text": [
      "Previsões para os próximos 12 meses (LSTM + Alisamento Exponencial):\n",
      "Mes 1: 2.28\n",
      "Mes 2: 2.30\n",
      "Mes 3: 2.32\n",
      "Mes 4: 2.32\n",
      "Mes 5: 2.36\n",
      "Mes 6: 2.38\n",
      "Mes 7: 2.32\n",
      "Mes 8: 2.33\n",
      "Mes 9: 2.34\n",
      "Mes 10: 2.34\n",
      "Mes 11: 2.36\n",
      "Mes 12: 2.35\n"
     ]
    }
   ],
   "source": [
    "# Exibir previsões para os próximos 12 meses\n",
    "print(\"Previsões para os próximos 12 meses (LSTM + Alisamento Exponencial):\")\n",
    "for i, prediction in enumerate(predictions):\n",
    "    print(f\"Mes {i + 1}: {prediction:.2f}\")"
   ]
  },
  {
   "attachments": {},
   "cell_type": "markdown",
   "metadata": {},
   "source": [
    "##### Avaliação do Forecast"
   ]
  },
  {
   "attachments": {},
   "cell_type": "markdown",
   "metadata": {},
   "source": [
    "\t Abaixo calculamos as métricas de erro dos modelos. No caso de séries temporais utilizamos o cálculo do MSE, ou erro médio quadrático, e MAE, ou erro médio absoluto."
   ]
  },
  {
   "cell_type": "code",
   "execution_count": 170,
   "metadata": {},
   "outputs": [],
   "source": [
    "from sklearn.metrics import mean_squared_error, mean_absolute_error\n",
    "\n",
    "# Calcular o erro para o modelo LSTM\n",
    "mse_lstm = mean_squared_error(Y_test[0], test_predict[:,0])\n",
    "mae_lstm = mean_absolute_error(Y_test[0], test_predict[:,0])\n",
    "\n",
    "# Calcular o erro para o modelo de Alisamento Exponencial\n",
    "mse_hw = mean_squared_error(df.iloc[train_size:train_size + 12, 0], hw_pred)\n",
    "mae_hw = mean_absolute_error(df.iloc[train_size:train_size + 12, 0], hw_pred)\n",
    "\n",
    "# Calcular o erro para o ensemble (LSTM + Alisamento Exponencial)\n",
    "ensemble_pred = np.array([(test_predict[i, 0] + hw_pred[i]) / 2 for i in range(len(hw_pred))])\n",
    "mse_ensemble = mean_squared_error(df.iloc[train_size:train_size + 12, 0], ensemble_pred)\n",
    "mae_ensemble = mean_absolute_error(df.iloc[train_size:train_size + 12, 0], ensemble_pred)\n"
   ]
  },
  {
   "cell_type": "code",
   "execution_count": 171,
   "metadata": {},
   "outputs": [
    {
     "name": "stdout",
     "output_type": "stream",
     "text": [
      "MSE - LSTM: 0.0112, Alisamento Exponencial: 0.1102, Ensemble (LSTM + Alisamento Exponencial): 0.0300\n",
      "MAE - LSTM: 0.0942, Alisamento Exponencial: 0.2980, Ensemble (LSTM + Alisamento Exponencial): 0.1568\n"
     ]
    }
   ],
   "source": [
    "# Imprimir os erros para os três modelos\n",
    "print(f\"MSE - LSTM: {mse_lstm:.4f}, Alisamento Exponencial: {mse_hw:.4f}, Ensemble (LSTM + Alisamento Exponencial): {mse_ensemble:.4f}\")\n",
    "print(f\"MAE - LSTM: {mae_lstm:.4f}, Alisamento Exponencial: {mae_hw:.4f}, Ensemble (LSTM + Alisamento Exponencial): {mae_ensemble:.4f}\")"
   ]
  },
  {
   "attachments": {},
   "cell_type": "markdown",
   "metadata": {},
   "source": [
    "\n",
    "     Um MSE menor indica um melhor ajuste do modelo. Neste caso, no modelo que obteve o menor resultado foi o LSTM . Da mesma maneira, um MAE menor também indica uma boa aderência do modelo, ou seja que em média nossas previsões estão desviando o valor de *MAE - LSTM* em relação aos valores reais. Realizado o cálculo das métricas pode-se considerar que o modelo com melhor resultado foi o de LSTM, sendo assim considerado nosso forecast final."
   ]
  },
  {
   "cell_type": "code",
   "execution_count": 172,
   "metadata": {},
   "outputs": [
    {
     "data": {
      "image/png": "[encoded data removed]",
      "text/plain": [
       "<Figure size 720x432 with 1 Axes>"
      ]
     },
     "metadata": {
      "needs_background": "light"
     },
     "output_type": "display_data"
    }
   ],
   "source": [
    "# Preparar os dados para o gráfico\n",
    "lstm_predictions = test_predict[:12, 0]\n",
    "\n",
    "# Criar o gráfico\n",
    "x_labels = np.arange(1, 13, 1)\n",
    "\n",
    "real_data = df.iloc[train_size:train_size + 12, 0]\n",
    "\n",
    "plt.figure(figsize=(10, 6))\n",
    "plt.plot(x_labels, real_data, label=\"Dados Reais\", marker='o')\n",
    "plt.plot(x_labels, lstm_predictions, label=\"Previsões LSTM\", marker='x')\n",
    "plt.xlabel(\"Meses\")\n",
    "plt.ylabel(\"Taxa de Inadimplência\")\n",
    "plt.title(\"Taxa de Inadimplência - Dados Reais vs Previsões LSTM\")\n",
    "plt.legend()\n",
    "plt.show()"
   ]
  }
 ],
 "metadata": {
  "kernelspec": {
   "display_name": "base",
   "language": "python",
   "name": "python3"
  },
  "language_info": {
   "codemirror_mode": {
    "name": "ipython",
    "version": 3
   },
   "file_extension": ".py",
   "mimetype": "text/x-python",
   "name": "python",
   "nbconvert_exporter": "python",
   "pygments_lexer": "ipython3",
   "version": "3.8.5"
  },
  "orig_nbformat": 4
 },
 "nbformat": 4,
 "nbformat_minor": 2
}
